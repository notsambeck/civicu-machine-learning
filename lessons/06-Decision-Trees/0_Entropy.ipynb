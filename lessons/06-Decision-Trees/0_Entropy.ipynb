{
 "cells": [
  {
   "cell_type": "code",
   "execution_count": 1,
   "metadata": {},
   "outputs": [
    {
     "name": "stdout",
     "output_type": "stream",
     "text": [
      "Populating the interactive namespace from numpy and matplotlib\n"
     ]
    }
   ],
   "source": [
    "%pylab inline\n",
    "import numpy as np\n",
    "from sklearn import datasets\n",
    "\n",
    "iris = datasets.load_iris()\n",
    "data_t0 = np.array([row for i,row in enumerate(iris.data) if iris.target[i] == 0])\n",
    "data_t1 = np.array([row for i,row in enumerate(iris.data) if iris.target[i] == 1])\n",
    "data_t2 = np.array([row for i,row in enumerate(iris.data) if iris.target[i] == 2])"
   ]
  },
  {
   "cell_type": "markdown",
   "metadata": {},
   "source": [
    "# Entropy"
   ]
  },
  {
   "cell_type": "markdown",
   "metadata": {},
   "source": [
    "Entropy - the amount of 'randomness' or 'surprise' in data.\n",
    "\n",
    "Some code excerpts take [from here](http://nbviewer.ipython.org/github/fonnesbeck/Bios366/blob/master/notebooks/Section6_5-Decision-Trees.ipynb)\n",
    "\n",
    "Shannon's 1948 paper [A Mathematical Theory of Communication](http://worrydream.com/refs/Shannon%20-%20A%20Mathematical%20Theory%20of%20Communication.pdf) is cited as the foundation of info theory.\n",
    "\n",
    "Shannon's paper cites Hartley's [Transmission of Information (1928)](http://www3.alcatel-lucent.com/bstj/vol07-1928/articles/bstj7-3-535.pdf) as the originator of using the `log` function to model information for three reasons:\n",
    "\n",
    "* Practicality. most technical system's capacity follows the log function\n",
    "* Intuition.  Similar to the first, we think \"two punched cards should have twice the capacity of one for information storage\"\n",
    "* Cleaner.  The limits of probability happen to match the limits of the log function.\n"
   ]
  },
  {
   "cell_type": "code",
   "execution_count": 18,
   "metadata": {},
   "outputs": [],
   "source": [
    "import numpy as np\n",
    "entropy = lambda p: -p * np.log2(p) if p > 0. else 0"
   ]
  },
  {
   "cell_type": "code",
   "execution_count": 19,
   "metadata": {},
   "outputs": [
    {
     "data": {
      "text/plain": [
       "[<matplotlib.lines.Line2D at 0x7f1ddadc8cc0>]"
      ]
     },
     "execution_count": 19,
     "metadata": {},
     "output_type": "execute_result"
    },
    {
     "data": {
      "image/png": "[encoded data removed]",
      "text/plain": [
       "<matplotlib.figure.Figure at 0x7f1ddb0852b0>"
      ]
     },
     "metadata": {},
     "output_type": "display_data"
    }
   ],
   "source": [
    "figure(5)\n",
    "xlabel(\"p of the given state\")\n",
    "ylabel(\"entropy contributed by the given state\")\n",
    "pvals = np.linspace(0, 1)  \n",
    "plot(pvals, [entropy(p) for p in list(pvals)])"
   ]
  },
  {
   "cell_type": "code",
   "execution_count": 4,
   "metadata": {},
   "outputs": [
    {
     "name": "stdout",
     "output_type": "stream",
     "text": [
      "entropy(0.4) = 0.528771237955\n",
      "entropy(0.5) = 0.5\n",
      "entropy(0.6) = 0.4421793565\n"
     ]
    }
   ],
   "source": [
    "print \"entropy(0.4) =\", entropy(0.4)\n",
    "print \"entropy(0.5) =\", entropy(0.5)\n",
    "print \"entropy(0.6) =\", entropy(0.6)"
   ]
  },
  {
   "cell_type": "code",
   "execution_count": 5,
   "metadata": {},
   "outputs": [
    {
     "name": "stdout",
     "output_type": "stream",
     "text": [
      "1.0\n",
      "0.811278124459\n",
      "even three states: 1.58496250072\n",
      "[0,49,5] 0.445064857051\n"
     ]
    }
   ],
   "source": [
    "print entropy(0.5) + entropy(0.5)\n",
    "print entropy(0.25) + entropy(0.75)\n",
    "\n",
    "print \"even three states:\", entropy(0.333333333333) + entropy(0.333333333333) + entropy(0.333333333333)\n",
    "print \"[0,49,5]\",entropy(49./54)+entropy(5./54)"
   ]
  },
  {
   "cell_type": "code",
   "execution_count": 6,
   "metadata": {},
   "outputs": [
    {
     "data": {
      "text/plain": [
       "[<matplotlib.lines.Line2D at 0x112d8bb10>]"
      ]
     },
     "execution_count": 6,
     "metadata": {},
     "output_type": "execute_result"
    },
    {
     "data": {
      "image/png": "[encoded data removed]",
      "text/plain": [
       "<matplotlib.figure.Figure at 0x10fa2af90>"
      ]
     },
     "metadata": {},
     "output_type": "display_data"
    }
   ],
   "source": [
    "figure(6)\n",
    "xlabel(\"p of state 1, out of 2 states\")\n",
    "ylabel(\"entropy of system\")\n",
    "pvals = np.linspace(0, 1)  \n",
    "plot(pvals, [entropy(p)+entropy(1-p) for p in list(pvals)])"
   ]
  },
  {
   "cell_type": "code",
   "execution_count": 7,
   "metadata": {},
   "outputs": [],
   "source": [
    "def value_entropy(list_of_number_of_occurrences):\n",
    "    def entropy(s):\n",
    "    res = 0\n",
    "    val, counts = np.unique(s, return_counts=True)\n",
    "    freqs = counts.astype('float')/len(s)\n",
    "    for p in freqs:\n",
    "        if p != 0.0:\n",
    "            res -= p * np.log2(p)\n",
    "    return res\n",
    "    total_N = sum(list_of_number_of_occurrences)\n",
    "    \n",
    "    if total_N == 0:\n",
    "        return 0.\n",
    "    \n",
    "    total_entropy = 0.\n",
    "    for state in list_of_number_of_occurrences:\n",
    "        total_entropy += entropy(float(state)/total_N)\n",
    "    \n",
    "    return total_entropy"
   ]
  },
  {
   "cell_type": "code",
   "execution_count": 8,
   "metadata": {},
   "outputs": [
    {
     "name": "stdout",
     "output_type": "stream",
     "text": [
      "l1 [2, 2, 2, 2] 2.0\n",
      "l2 [0, 0, 4, 4] 1.0\n",
      "l3 [1, 2, 3, 4] 1.84643934467\n",
      "l4 [8, 0, 0, 0] 0.0\n"
     ]
    }
   ],
   "source": [
    "l1 = [2,2,2,2]\n",
    "l2 = [0,0,4,4]\n",
    "l3 = [1,2,3,4]\n",
    "l4 = [8,0,0,0]\n",
    "\n",
    "print \"l1\",l1,entropy_of_list(l1)\n",
    "print \"l2\",l2,entropy_of_list(l2)\n",
    "print \"l3\",l3,entropy_of_list(l3)\n",
    "print 'l4',l4,entropy_of_list(l4)\n"
   ]
  },
  {
   "cell_type": "code",
   "execution_count": 9,
   "metadata": {},
   "outputs": [
    {
     "data": {
      "text/plain": [
       "(0, 2.6)"
      ]
     },
     "execution_count": 9,
     "metadata": {},
     "output_type": "execute_result"
    },
    {
     "data": {
      "image/png": "[encoded data removed]",
      "text/plain": [
       "<matplotlib.figure.Figure at 0x112dd0190>"
      ]
     },
     "metadata": {},
     "output_type": "display_data"
    }
   ],
   "source": [
    "from matplotlib import gridspec\n",
    "\n",
    "# generate some data\n",
    "x = np.arange(0, 10, 0.2)\n",
    "y = np.sin(x)\n",
    "\n",
    "# entropy_of_list()\n",
    "\n",
    "step = 0.001\n",
    "\n",
    "data_d2l = np.array([[row[2],iris.target[i]] for i,row in enumerate(iris.data)])\n",
    "e_x = np.arange(0.9,7+step,step)\n",
    "entropies = []\n",
    "for cutoff in e_x:\n",
    "    left_list = [int(c) for [x,c] in data_d2l if x < cutoff]\n",
    "    right_list = [int(c) for [x,c] in data_d2l if x >= cutoff]\n",
    "    \n",
    "    left_counts = [0,0,0]\n",
    "    for c in left_list:\n",
    "        left_counts[c] += 1\n",
    "    \n",
    "    right_counts = [0,0,0]\n",
    "    for c in right_list:\n",
    "        right_counts[c] += 1\n",
    "    \n",
    "    left_entropy = entropy_of_list(left_counts)\n",
    "    right_entropy = entropy_of_list(right_counts)\n",
    "\n",
    "    entropies.append(left_entropy + right_entropy)\n",
    "    \n",
    "# plot it\n",
    "fig = figure(10,figsize=(12, 10)) \n",
    "gs = gridspec.GridSpec(2, 1, height_ratios=[1, 3]) \n",
    "ax0 = subplot(gs[0])\n",
    "ax0.plot(e_x,entropies)\n",
    "ax0.set_ylabel(\"entropy\")\n",
    "ax0.set_xlim([0.9,7.])\n",
    "ax0.set_ylim([0.9,1.9])\n",
    "\n",
    "\n",
    "\n",
    "ax1 = subplot(gs[1])\n",
    "ax1.scatter(data_t0[:,2], data_t0[:,3], color = 'b', label=iris.target_names[0])\n",
    "ax1.scatter(data_t1[:,2], data_t1[:,3], color = 'g', label=iris.target_names[1])\n",
    "ax1.scatter(data_t2[:,2], data_t2[:,3], color = 'r', label=iris.target_names[2])\n",
    "ax1.set_xlabel(\"petal length (cm)\")\n",
    "ax1.set_ylabel(\"petal width (cm)\")\n",
    "ax1.set_xlim([0.9,7.])\n",
    "ax1.set_ylim([0,2.6])\n",
    "\n",
    "\n"
   ]
  },
  {
   "cell_type": "code",
   "execution_count": null,
   "metadata": {},
   "outputs": [],
   "source": []
  }
 ],
 "metadata": {
  "kernelspec": {
   "display_name": "Python 2",
   "language": "python",
   "name": "python2"
  },
  "language_info": {
   "codemirror_mode": {
    "name": "ipython",
    "version": 3
   },
   "file_extension": ".py",
   "mimetype": "text/x-python",
   "name": "python",
   "nbconvert_exporter": "python",
   "pygments_lexer": "ipython3",
   "version": "3.5.3"
  }
 },
 "nbformat": 4,
 "nbformat_minor": 1
}
