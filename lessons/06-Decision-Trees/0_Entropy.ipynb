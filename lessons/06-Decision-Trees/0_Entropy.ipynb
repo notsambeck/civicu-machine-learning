{
 "cells": [
  {
   "cell_type": "code",
   "execution_count": 1,
   "metadata": {},
   "outputs": [
    {
     "data": {
      "text/html": [
       "<style>\n",
       "    .container {\n",
       "        width: 99%;\n",
       "    }   \n",
       "    div.cell{\n",
       "        width: 99%;\n",
       "        margin-left: 1%;\n",
       "        margin-right: auto;\n",
       "    }\n",
       "    div.cell.selected {\n",
       "        border-left-width: 1px;\n",
       "    }\n",
       "</style>\n"
      ],
      "text/plain": [
       "<IPython.core.display.HTML object>"
      ]
     },
     "metadata": {},
     "output_type": "display_data"
    },
    {
     "ename": "ImportError",
     "evalue": "No module named 'mpld3'",
     "output_type": "error",
     "traceback": [
      "\u001b[0;31m---------------------------------------------------------------------------\u001b[0m",
      "\u001b[0;31mImportError\u001b[0m                               Traceback (most recent call last)",
      "\u001b[0;32m<ipython-input-1-895097bd0ac1>\u001b[0m in \u001b[0;36m<module>\u001b[0;34m()\u001b[0m\n\u001b[1;32m     10\u001b[0m \u001b[0;31m# display(HTML(\"<style>.container { width:100% !important; }</style>\"))\u001b[0m\u001b[0;34m\u001b[0m\u001b[0;34m\u001b[0m\u001b[0m\n\u001b[1;32m     11\u001b[0m \u001b[0mdisplay\u001b[0m\u001b[0;34m(\u001b[0m\u001b[0mHTML\u001b[0m\u001b[0;34m(\u001b[0m\u001b[0mopen\u001b[0m\u001b[0;34m(\u001b[0m\u001b[0;34m\"../shared-resources/jupyter.css\"\u001b[0m\u001b[0;34m,\u001b[0m \u001b[0;34m\"r\"\u001b[0m\u001b[0;34m)\u001b[0m\u001b[0;34m.\u001b[0m\u001b[0mread\u001b[0m\u001b[0;34m(\u001b[0m\u001b[0;34m)\u001b[0m\u001b[0;34m)\u001b[0m\u001b[0;34m)\u001b[0m\u001b[0;34m\u001b[0m\u001b[0m\n\u001b[0;32m---> 12\u001b[0;31m \u001b[0;32mimport\u001b[0m \u001b[0mmpld3\u001b[0m\u001b[0;34m\u001b[0m\u001b[0m\n\u001b[0m\u001b[1;32m     13\u001b[0m \u001b[0;34m\u001b[0m\u001b[0m\n\u001b[1;32m     14\u001b[0m \u001b[0mget_ipython\u001b[0m\u001b[0;34m(\u001b[0m\u001b[0;34m)\u001b[0m\u001b[0;34m.\u001b[0m\u001b[0mrun_line_magic\u001b[0m\u001b[0;34m(\u001b[0m\u001b[0;34m'matplotlib'\u001b[0m\u001b[0;34m,\u001b[0m \u001b[0;34m'inline'\u001b[0m\u001b[0;34m)\u001b[0m\u001b[0;34m\u001b[0m\u001b[0m\n",
      "\u001b[0;31mImportError\u001b[0m: No module named 'mpld3'"
     ]
    }
   ],
   "source": [
    "from IPython.display import display, HTML\n",
    "import pandas as pd\n",
    "import numpy as np\n",
    "import seaborn as sns\n",
    "from seaborn.utils import plt\n",
    "pd.set_option('display.max_rows', 6)\n",
    "pd.set_option('display.max_columns', 500)\n",
    "import matplotlib\n",
    "plt.style.use('seaborn')\n",
    "# display(HTML(\"<style>.container { width:100% !important; }</style>\"))\n",
    "display(HTML(open(\"../shared-resources/jupyter.css\", \"r\").read()))\n",
    "import mpld3\n",
    "\n",
    "%matplotlib inline"
   ]
  },
  {
   "cell_type": "markdown",
   "metadata": {},
   "source": [
    "# Entropy"
   ]
  },
  {
   "cell_type": "markdown",
   "metadata": {},
   "source": [
    "Entropy - the amount of 'randomness' or 'surprise' in data.\n",
    "\n",
    "[20-questions example](http://dsw.users.sonic.net/entropy.html)\n",
    "\n",
    "Some code excerpts take [from here](http://nbviewer.ipython.org/github/fonnesbeck/Bios366/blob/master/notebooks/Section6_5-Decision-Trees.ipynb)\n",
    "\n",
    "Shannon's 1948 paper [A Mathematical Theory of Communication](http://worrydream.com/refs/Shannon%20-%20A%20Mathematical%20Theory%20of%20Communication.pdf) is cited as the foundation of info theory.\n",
    "\n",
    "Shannon's paper cites Hartley's [Transmission of Information (1928)](http://www3.alcatel-lucent.com/bstj/vol07-1928/articles/bstj7-3-535.pdf) as the originator of using the `log` function to model information for three reasons:\n",
    "\n",
    "* Practicality. most technical system's capacity follows the log function\n",
    "* Intuition.  Similar to the first, we think \"two punched cards should have twice the capacity of one for information storage\"\n",
    "* Cleaner.  The limits of probability happen to match the limits of the log function.\n"
   ]
  },
  {
   "cell_type": "code",
   "execution_count": 7,
   "metadata": {},
   "outputs": [],
   "source": [
    "def entropy(p, base=2):\n",
    "    \"\"\" Calculate the entropy for a given probability or proportion \n",
    "    \n",
    "    There's half a bit of entropy of information in an event wtih 50% probability:\n",
    "    >>> entropy(.5, base=2)\n",
    "    0.5\n",
    "    \n",
    "    There's more than 1/2 bit (shannon) in a 40% event. Why?\n",
    "    >>> entropy(.4, base=2)\n",
    "    0.52877123795494496\n",
    "    \"\"\"\n",
    "    p = np.array(p)\n",
    "    p[(p <= 0) | (p > 1)] = 1.\n",
    "    return np.sum(-p * np.log(p) / np.log(base))"
   ]
  },
  {
   "cell_type": "code",
   "execution_count": 8,
   "metadata": {},
   "outputs": [],
   "source": [
    "fig = plt.figure(5, figsize=(16,6))\n",
    "plt.xlabel(\"p of the given state\")\n",
    "plt.ylabel(\"entropy contributed by the given state\")\n",
    "pvals = np.linspace(0, 1)  \n",
    "ax = plt.plot(pvals, [entropy(p) for p in list(pvals)])"
   ]
  },
  {
   "cell_type": "code",
   "execution_count": 9,
   "metadata": {},
   "outputs": [
    {
     "data": {
      "text/plain": [
       "(0.52877123795494496, 0.5, 0.44217935649972379)"
      ]
     },
     "execution_count": 9,
     "metadata": {},
     "output_type": "execute_result"
    }
   ],
   "source": [
    "entropy(.4), entropy(.5), entropy(.6)"
   ]
  },
  {
   "cell_type": "code",
   "execution_count": 10,
   "metadata": {},
   "outputs": [
    {
     "data": {
      "text/plain": [
       "1.0"
      ]
     },
     "execution_count": 10,
     "metadata": {},
     "output_type": "execute_result"
    }
   ],
   "source": [
    "entropy(0.5) + entropy(0.5)"
   ]
  },
  {
   "cell_type": "code",
   "execution_count": 11,
   "metadata": {},
   "outputs": [
    {
     "data": {
      "text/plain": [
       "1.0"
      ]
     },
     "execution_count": 11,
     "metadata": {},
     "output_type": "execute_result"
    }
   ],
   "source": [
    "entropy([.5, .5])"
   ]
  },
  {
   "cell_type": "code",
   "execution_count": 12,
   "metadata": {},
   "outputs": [
    {
     "data": {
      "text/plain": [
       "0.9709505944546688"
      ]
     },
     "execution_count": 12,
     "metadata": {},
     "output_type": "execute_result"
    }
   ],
   "source": [
    "# entropies don't sum to 1 even if their probabilities do\n",
    "entropy(0.6) + entropy(0.4)"
   ]
  },
  {
   "cell_type": "code",
   "execution_count": 13,
   "metadata": {},
   "outputs": [
    {
     "data": {
      "text/plain": [
       "1.5849625007211561"
      ]
     },
     "execution_count": 13,
     "metadata": {},
     "output_type": "execute_result"
    }
   ],
   "source": [
    "entropy([1/3., 1/3., 1/3.])"
   ]
  },
  {
   "cell_type": "code",
   "execution_count": 14,
   "metadata": {},
   "outputs": [],
   "source": [
    "fig = plt.figure(6, figsize=(16,6))\n",
    "plt.xlabel(\"p of state 1, out of 2 states\")\n",
    "plt.ylabel(\"entropy of system\")\n",
    "pvals = np.linspace(0, 1)  \n",
    "ax = plt.plot(pvals, [entropy(p) + entropy(1 - p) for p in list(pvals)])"
   ]
  },
  {
   "cell_type": "code",
   "execution_count": 15,
   "metadata": {},
   "outputs": [],
   "source": [
    "def value_entropy(values):\n",
    "    values = np.array(values)\n",
    "    unique_values, counts = np.unique(values, return_counts=True)\n",
    "    freqs = counts.astype('float') / len(values)\n",
    "    return entropy(freqs)\n"
   ]
  },
  {
   "cell_type": "code",
   "execution_count": 16,
   "metadata": {},
   "outputs": [
    {
     "data": {
      "text/plain": [
       "0.0"
      ]
     },
     "execution_count": 16,
     "metadata": {},
     "output_type": "execute_result"
    }
   ],
   "source": [
    "value_entropy(pd.Series([]))"
   ]
  },
  {
   "cell_type": "code",
   "execution_count": 17,
   "metadata": {},
   "outputs": [
    {
     "data": {
      "text/plain": [
       "1.0"
      ]
     },
     "execution_count": 17,
     "metadata": {},
     "output_type": "execute_result"
    }
   ],
   "source": [
    "x = pd.Series([1,0,0,1,1,1,0,0,1,1,0,1,1,1,0,0,0,0,1,1,0,0])\n",
    "len(x)\n",
    "value_entropy(x)"
   ]
  },
  {
   "cell_type": "code",
   "execution_count": 18,
   "metadata": {},
   "outputs": [
    {
     "data": {
      "text/plain": [
       "0.81127812445913283"
      ]
     },
     "execution_count": 18,
     "metadata": {},
     "output_type": "execute_result"
    }
   ],
   "source": [
    "value_entropy(pd.Series([2,2,2,5]))"
   ]
  },
  {
   "cell_type": "markdown",
   "metadata": {},
   "source": [
    "## Your Turn\n",
    "\n",
    "1. What is the entropy of the player in the 20-questions game above?\n",
    "2. Play a game of 20-questions with your neighbor and try to maximize the entropy the answers to your questions.\n",
    "3. Compute the entropy in a sequence of stock closing prices, converted to bits (for price goes up vs goes down)\n",
    "\n",
    "  \n",
    "  \n",
    "  \n",
    "  \n",
    "  \n",
    "  \n",
    "  \n",
    "  \n",
    "  \n",
    "  "
   ]
  },
  {
   "cell_type": "code",
   "execution_count": 19,
   "metadata": {},
   "outputs": [
    {
     "data": {
      "text/html": [
       "<div>\n",
       "<style>\n",
       "    .dataframe thead tr:only-child th {\n",
       "        text-align: right;\n",
       "    }\n",
       "\n",
       "    .dataframe thead th {\n",
       "        text-align: left;\n",
       "    }\n",
       "\n",
       "    .dataframe tbody tr th {\n",
       "        vertical-align: top;\n",
       "    }\n",
       "</style>\n",
       "<table border=\"1\" class=\"dataframe\">\n",
       "  <thead>\n",
       "    <tr style=\"text-align: right;\">\n",
       "      <th></th>\n",
       "      <th>goog_open</th>\n",
       "      <th>goog_high</th>\n",
       "      <th>goog_low</th>\n",
       "      <th>goog_close</th>\n",
       "      <th>goog_adj_close</th>\n",
       "      <th>goog_volume</th>\n",
       "      <th>ibm_open</th>\n",
       "      <th>ibm_high</th>\n",
       "      <th>ibm_low</th>\n",
       "      <th>ibm_close</th>\n",
       "      <th>ibm_adj_close</th>\n",
       "      <th>ibm_volume</th>\n",
       "      <th>ge_open</th>\n",
       "      <th>ge_high</th>\n",
       "      <th>ge_low</th>\n",
       "      <th>ge_close</th>\n",
       "      <th>ge_adj_close</th>\n",
       "      <th>ge_volume</th>\n",
       "      <th>tsla_open</th>\n",
       "      <th>tsla_high</th>\n",
       "      <th>tsla_low</th>\n",
       "      <th>tsla_close</th>\n",
       "      <th>tsla_adj_close</th>\n",
       "      <th>tsla_volume</th>\n",
       "      <th>aapl_open</th>\n",
       "      <th>aapl_high</th>\n",
       "      <th>aapl_low</th>\n",
       "      <th>aapl_close</th>\n",
       "      <th>aapl_adj_close</th>\n",
       "      <th>aapl_volume</th>\n",
       "      <th>open</th>\n",
       "      <th>high</th>\n",
       "      <th>low</th>\n",
       "      <th>close</th>\n",
       "      <th>2010-07-19 00:00:00</th>\n",
       "    </tr>\n",
       "    <tr>\n",
       "      <th>date</th>\n",
       "      <th></th>\n",
       "      <th></th>\n",
       "      <th></th>\n",
       "      <th></th>\n",
       "      <th></th>\n",
       "      <th></th>\n",
       "      <th></th>\n",
       "      <th></th>\n",
       "      <th></th>\n",
       "      <th></th>\n",
       "      <th></th>\n",
       "      <th></th>\n",
       "      <th></th>\n",
       "      <th></th>\n",
       "      <th></th>\n",
       "      <th></th>\n",
       "      <th></th>\n",
       "      <th></th>\n",
       "      <th></th>\n",
       "      <th></th>\n",
       "      <th></th>\n",
       "      <th></th>\n",
       "      <th></th>\n",
       "      <th></th>\n",
       "      <th></th>\n",
       "      <th></th>\n",
       "      <th></th>\n",
       "      <th></th>\n",
       "      <th></th>\n",
       "      <th></th>\n",
       "      <th></th>\n",
       "      <th></th>\n",
       "      <th></th>\n",
       "      <th></th>\n",
       "      <th></th>\n",
       "    </tr>\n",
       "  </thead>\n",
       "  <tbody>\n",
       "    <tr>\n",
       "      <th>2010-07-19</th>\n",
       "      <td>1.000000</td>\n",
       "      <td>1.000000</td>\n",
       "      <td>1.000000</td>\n",
       "      <td>1.000000</td>\n",
       "      <td>1.000000</td>\n",
       "      <td>1.000000</td>\n",
       "      <td>1.000000</td>\n",
       "      <td>1.000000</td>\n",
       "      <td>1.000000</td>\n",
       "      <td>1.000000</td>\n",
       "      <td>1.000000</td>\n",
       "      <td>1.000000</td>\n",
       "      <td>1.000000</td>\n",
       "      <td>1.000000</td>\n",
       "      <td>1.000000</td>\n",
       "      <td>1.000000</td>\n",
       "      <td>1.000000</td>\n",
       "      <td>1.000000</td>\n",
       "      <td>1.000000</td>\n",
       "      <td>1.000000</td>\n",
       "      <td>1.000000</td>\n",
       "      <td>1.000000</td>\n",
       "      <td>1.000000</td>\n",
       "      <td>1.000000</td>\n",
       "      <td>1.000000</td>\n",
       "      <td>1.000000</td>\n",
       "      <td>1.000000</td>\n",
       "      <td>1.000000</td>\n",
       "      <td>1.000000</td>\n",
       "      <td>1.000000</td>\n",
       "      <td>1.000000</td>\n",
       "      <td>1.000000</td>\n",
       "      <td>1.000</td>\n",
       "      <td>1.000</td>\n",
       "      <td>NaN</td>\n",
       "    </tr>\n",
       "    <tr>\n",
       "      <th>2010-07-20</th>\n",
       "      <td>1.000043</td>\n",
       "      <td>1.028404</td>\n",
       "      <td>1.006732</td>\n",
       "      <td>1.033056</td>\n",
       "      <td>1.033056</td>\n",
       "      <td>0.891024</td>\n",
       "      <td>0.955701</td>\n",
       "      <td>0.970701</td>\n",
       "      <td>0.957623</td>\n",
       "      <td>0.975037</td>\n",
       "      <td>0.975037</td>\n",
       "      <td>1.947572</td>\n",
       "      <td>0.980874</td>\n",
       "      <td>1.018318</td>\n",
       "      <td>0.992398</td>\n",
       "      <td>1.021888</td>\n",
       "      <td>1.021888</td>\n",
       "      <td>1.371006</td>\n",
       "      <td>1.022461</td>\n",
       "      <td>0.982022</td>\n",
       "      <td>0.958413</td>\n",
       "      <td>0.926518</td>\n",
       "      <td>0.926518</td>\n",
       "      <td>0.734084</td>\n",
       "      <td>0.972067</td>\n",
       "      <td>1.012086</td>\n",
       "      <td>1.001711</td>\n",
       "      <td>1.025694</td>\n",
       "      <td>1.025694</td>\n",
       "      <td>1.049267</td>\n",
       "      <td>0.888889</td>\n",
       "      <td>0.888889</td>\n",
       "      <td>0.875</td>\n",
       "      <td>0.875</td>\n",
       "      <td>NaN</td>\n",
       "    </tr>\n",
       "    <tr>\n",
       "      <th>2010-07-21</th>\n",
       "      <td>1.049869</td>\n",
       "      <td>1.034174</td>\n",
       "      <td>1.039146</td>\n",
       "      <td>1.024282</td>\n",
       "      <td>1.024282</td>\n",
       "      <td>0.720736</td>\n",
       "      <td>0.982669</td>\n",
       "      <td>0.970241</td>\n",
       "      <td>0.970788</td>\n",
       "      <td>0.965175</td>\n",
       "      <td>0.965174</td>\n",
       "      <td>1.027049</td>\n",
       "      <td>1.032104</td>\n",
       "      <td>1.031208</td>\n",
       "      <td>1.011748</td>\n",
       "      <td>1.015048</td>\n",
       "      <td>1.015048</td>\n",
       "      <td>1.325004</td>\n",
       "      <td>0.966776</td>\n",
       "      <td>0.939326</td>\n",
       "      <td>0.932122</td>\n",
       "      <td>0.922866</td>\n",
       "      <td>0.922866</td>\n",
       "      <td>0.503720</td>\n",
       "      <td>1.060869</td>\n",
       "      <td>1.061109</td>\n",
       "      <td>1.060100</td>\n",
       "      <td>1.035263</td>\n",
       "      <td>1.035263</td>\n",
       "      <td>1.157342</td>\n",
       "      <td>0.777778</td>\n",
       "      <td>0.888889</td>\n",
       "      <td>0.875</td>\n",
       "      <td>1.000</td>\n",
       "      <td>NaN</td>\n",
       "    </tr>\n",
       "    <tr>\n",
       "      <th>2010-07-22</th>\n",
       "      <td>1.048199</td>\n",
       "      <td>1.041158</td>\n",
       "      <td>1.054555</td>\n",
       "      <td>1.039963</td>\n",
       "      <td>1.039963</td>\n",
       "      <td>0.471975</td>\n",
       "      <td>0.981736</td>\n",
       "      <td>0.980058</td>\n",
       "      <td>0.981927</td>\n",
       "      <td>0.982125</td>\n",
       "      <td>0.982125</td>\n",
       "      <td>0.823618</td>\n",
       "      <td>1.030055</td>\n",
       "      <td>1.037313</td>\n",
       "      <td>1.034554</td>\n",
       "      <td>1.040356</td>\n",
       "      <td>1.040356</td>\n",
       "      <td>1.310307</td>\n",
       "      <td>0.959289</td>\n",
       "      <td>0.955056</td>\n",
       "      <td>0.973709</td>\n",
       "      <td>0.958466</td>\n",
       "      <td>0.958466</td>\n",
       "      <td>0.385200</td>\n",
       "      <td>1.031215</td>\n",
       "      <td>1.040499</td>\n",
       "      <td>1.065568</td>\n",
       "      <td>1.054728</td>\n",
       "      <td>1.054727</td>\n",
       "      <td>0.629900</td>\n",
       "      <td>0.888889</td>\n",
       "      <td>0.888889</td>\n",
       "      <td>0.625</td>\n",
       "      <td>0.625</td>\n",
       "      <td>NaN</td>\n",
       "    </tr>\n",
       "    <tr>\n",
       "      <th>2010-07-23</th>\n",
       "      <td>1.042862</td>\n",
       "      <td>1.044586</td>\n",
       "      <td>1.049156</td>\n",
       "      <td>1.051225</td>\n",
       "      <td>1.051225</td>\n",
       "      <td>0.497631</td>\n",
       "      <td>0.989353</td>\n",
       "      <td>0.987882</td>\n",
       "      <td>0.989328</td>\n",
       "      <td>0.989136</td>\n",
       "      <td>0.989136</td>\n",
       "      <td>0.605345</td>\n",
       "      <td>1.038934</td>\n",
       "      <td>1.075305</td>\n",
       "      <td>1.038701</td>\n",
       "      <td>1.074555</td>\n",
       "      <td>1.074555</td>\n",
       "      <td>2.297298</td>\n",
       "      <td>0.991577</td>\n",
       "      <td>0.968989</td>\n",
       "      <td>1.006692</td>\n",
       "      <td>0.971702</td>\n",
       "      <td>0.971702</td>\n",
       "      <td>0.262859</td>\n",
       "      <td>1.028854</td>\n",
       "      <td>1.042020</td>\n",
       "      <td>1.069616</td>\n",
       "      <td>1.058474</td>\n",
       "      <td>1.058474</td>\n",
       "      <td>0.520644</td>\n",
       "      <td>0.555556</td>\n",
       "      <td>0.777778</td>\n",
       "      <td>0.625</td>\n",
       "      <td>0.750</td>\n",
       "      <td>NaN</td>\n",
       "    </tr>\n",
       "  </tbody>\n",
       "</table>\n",
       "</div>"
      ],
      "text/plain": [
       "            goog_open  goog_high  goog_low  goog_close  goog_adj_close  \\\n",
       "date                                                                     \n",
       "2010-07-19   1.000000   1.000000  1.000000    1.000000        1.000000   \n",
       "2010-07-20   1.000043   1.028404  1.006732    1.033056        1.033056   \n",
       "2010-07-21   1.049869   1.034174  1.039146    1.024282        1.024282   \n",
       "2010-07-22   1.048199   1.041158  1.054555    1.039963        1.039963   \n",
       "2010-07-23   1.042862   1.044586  1.049156    1.051225        1.051225   \n",
       "\n",
       "            goog_volume  ibm_open  ibm_high   ibm_low  ibm_close  \\\n",
       "date                                                               \n",
       "2010-07-19     1.000000  1.000000  1.000000  1.000000   1.000000   \n",
       "2010-07-20     0.891024  0.955701  0.970701  0.957623   0.975037   \n",
       "2010-07-21     0.720736  0.982669  0.970241  0.970788   0.965175   \n",
       "2010-07-22     0.471975  0.981736  0.980058  0.981927   0.982125   \n",
       "2010-07-23     0.497631  0.989353  0.987882  0.989328   0.989136   \n",
       "\n",
       "            ibm_adj_close  ibm_volume   ge_open   ge_high    ge_low  ge_close  \\\n",
       "date                                                                            \n",
       "2010-07-19       1.000000    1.000000  1.000000  1.000000  1.000000  1.000000   \n",
       "2010-07-20       0.975037    1.947572  0.980874  1.018318  0.992398  1.021888   \n",
       "2010-07-21       0.965174    1.027049  1.032104  1.031208  1.011748  1.015048   \n",
       "2010-07-22       0.982125    0.823618  1.030055  1.037313  1.034554  1.040356   \n",
       "2010-07-23       0.989136    0.605345  1.038934  1.075305  1.038701  1.074555   \n",
       "\n",
       "            ge_adj_close  ge_volume  tsla_open  tsla_high  tsla_low  \\\n",
       "date                                                                  \n",
       "2010-07-19      1.000000   1.000000   1.000000   1.000000  1.000000   \n",
       "2010-07-20      1.021888   1.371006   1.022461   0.982022  0.958413   \n",
       "2010-07-21      1.015048   1.325004   0.966776   0.939326  0.932122   \n",
       "2010-07-22      1.040356   1.310307   0.959289   0.955056  0.973709   \n",
       "2010-07-23      1.074555   2.297298   0.991577   0.968989  1.006692   \n",
       "\n",
       "            tsla_close  tsla_adj_close  tsla_volume  aapl_open  aapl_high  \\\n",
       "date                                                                        \n",
       "2010-07-19    1.000000        1.000000     1.000000   1.000000   1.000000   \n",
       "2010-07-20    0.926518        0.926518     0.734084   0.972067   1.012086   \n",
       "2010-07-21    0.922866        0.922866     0.503720   1.060869   1.061109   \n",
       "2010-07-22    0.958466        0.958466     0.385200   1.031215   1.040499   \n",
       "2010-07-23    0.971702        0.971702     0.262859   1.028854   1.042020   \n",
       "\n",
       "            aapl_low  aapl_close  aapl_adj_close  aapl_volume      open  \\\n",
       "date                                                                      \n",
       "2010-07-19  1.000000    1.000000        1.000000     1.000000  1.000000   \n",
       "2010-07-20  1.001711    1.025694        1.025694     1.049267  0.888889   \n",
       "2010-07-21  1.060100    1.035263        1.035263     1.157342  0.777778   \n",
       "2010-07-22  1.065568    1.054728        1.054727     0.629900  0.888889   \n",
       "2010-07-23  1.069616    1.058474        1.058474     0.520644  0.555556   \n",
       "\n",
       "                high    low  close  2010-07-19 00:00:00  \n",
       "date                                                     \n",
       "2010-07-19  1.000000  1.000  1.000                  NaN  \n",
       "2010-07-20  0.888889  0.875  0.875                  NaN  \n",
       "2010-07-21  0.888889  0.875  1.000                  NaN  \n",
       "2010-07-22  0.888889  0.625  0.625                  NaN  \n",
       "2010-07-23  0.777778  0.625  0.750                  NaN  "
      ]
     },
     "execution_count": 19,
     "metadata": {},
     "output_type": "execute_result"
    }
   ],
   "source": [
    "df = pd.read_csv('../shared-resources/time_series/time-series-2010.csv', index_col=0, header=0, parse_dates=True)\n",
    "df.head()"
   ]
  },
  {
   "cell_type": "code",
   "execution_count": 22,
   "metadata": {},
   "outputs": [
    {
     "name": "stdout",
     "output_type": "stream",
     "text": [
      "date\n",
      "2010-07-19    False\n",
      "2010-07-20     True\n",
      "2010-07-21     True\n",
      "              ...  \n",
      "2017-10-05    False\n",
      "2017-10-06     True\n",
      "2017-10-09     True\n",
      "Name: goog_open, Length: 1821, dtype: bool\n"
     ]
    },
    {
     "data": {
      "text/plain": [
       "0.99777980927749177"
      ]
     },
     "execution_count": 22,
     "metadata": {},
     "output_type": "execute_result"
    }
   ],
   "source": [
    "updown = df.goog_open.diff() > 0\n",
    "print(updown)\n",
    "value_entropy(updown.values)"
   ]
  },
  {
   "cell_type": "markdown",
   "metadata": {},
   "source": [
    "\n",
    "\n",
    "\n",
    "\n",
    "\n",
    "\n",
    "\n",
    "\n",
    "\n",
    "\n",
    "\n",
    "\n",
    "\n",
    "----\n",
    "\n",
    "## 20 questions for flower identification!\n",
    "\n",
    "We'll use the sklearn Iris Data set.\n",
    "\n",
    "We'll build a **decision tree** in raw python.  \n",
    "\n",
    "We'll train it by maximizing the entropy at each decision \"branch\" of the tree.  "
   ]
  },
  {
   "cell_type": "code",
   "execution_count": 23,
   "metadata": {},
   "outputs": [],
   "source": [
    "from sklearn import datasets\n",
    "import pandas as pd\n",
    "import numpy as np\n",
    "from seaborn.utils import plt\n",
    "\n",
    "iris = datasets.load_iris()\n",
    "data_t0 = np.array([row for i, row in enumerate(iris.data) if iris.target[i] == 0])\n",
    "data_t1 = np.array([row for i, row in enumerate(iris.data) if iris.target[i] == 1])\n",
    "data_t2 = np.array([row for i, row in enumerate(iris.data) if iris.target[i] == 2])\n",
    "# df = pd.DataFrame([[row for i,row in enumerate(iris_data.data) if iris_data.target[i] == t] for t in range(3)]).T\n",
    "# df.columns = ['t{}'.format(i) for i in range(3)]\n",
    "# df.head()"
   ]
  },
  {
   "cell_type": "code",
   "execution_count": 24,
   "metadata": {},
   "outputs": [
    {
     "data": {
      "image/png": "[encoded data removed]",
      "text/plain": [
       "<matplotlib.figure.Figure at 0x7f8f2ddab748>"
      ]
     },
     "metadata": {},
     "output_type": "display_data"
    },
    {
     "data": {
      "image/png": "[encoded data removed]",
      "text/plain": [
       "<matplotlib.figure.Figure at 0x7f8f2e7c0470>"
      ]
     },
     "metadata": {},
     "output_type": "display_data"
    },
    {
     "data": {
      "image/png": "[encoded data removed]",
      "text/plain": [
       "<matplotlib.figure.Figure at 0x7f8f2e201a90>"
      ]
     },
     "metadata": {},
     "output_type": "display_data"
    }
   ],
   "source": [
    "figure, subplot = plt.figure, plt.subplot\n",
    "\n",
    "from matplotlib import gridspec\n",
    "\n",
    "entropy = lambda p: -p * np.log2(p) if p > 0. else 0\n",
    "\n",
    "def entropy_of_list(list_of_number_of_occurrences):\n",
    "    total_N = sum(list_of_number_of_occurrences)\n",
    "    \n",
    "    if total_N == 0:\n",
    "        return 0.\n",
    "    \n",
    "    total_entropy = 0.\n",
    "    for state in list_of_number_of_occurrences:\n",
    "        total_entropy += entropy(float(state)/total_N)\n",
    "    \n",
    "    return total_entropy\n",
    "\n",
    "\n",
    "step = 0.001\n",
    "\n",
    "data_d2l = np.array([[row[2],iris.target[i]] for i,row in enumerate(iris.data)])\n",
    "e_x = np.arange(0.9,7+step,step)\n",
    "entropies = []\n",
    "for cutoff in e_x:\n",
    "    left_list = [int(c) for [x,c] in data_d2l if x < cutoff]\n",
    "    right_list = [int(c) for [x,c] in data_d2l if x >= cutoff]\n",
    "    \n",
    "    left_counts = [0,0,0]\n",
    "    for c in left_list:\n",
    "        left_counts[c] += 1\n",
    "    \n",
    "    right_counts = [0,0,0]\n",
    "    for c in right_list:\n",
    "        right_counts[c] += 1\n",
    "    \n",
    "    left_entropy = entropy_of_list(left_counts)\n",
    "    right_entropy = entropy_of_list(right_counts)\n",
    "\n",
    "    entropies.append(left_entropy + right_entropy)\n",
    "    \n",
    "# plot it\n",
    "fig = figure(10,figsize=(12, 10)) \n",
    "gs = gridspec.GridSpec(2, 1, height_ratios=[1, 3]) \n",
    "ax0 = subplot(gs[0])\n",
    "ax0.plot(e_x,entropies)\n",
    "ax0.set_ylabel(\"entropy\")\n",
    "# ax0.set_xlim([0.9,7.])\n",
    "# ax0.set_ylim([0.9,1.9])\n",
    "\n",
    "\n",
    "ax1 = subplot(gs[1])\n",
    "ax1.scatter(data_t0[:,2], data_t0[:,3], color = 'b', label=iris.target_names[0])\n",
    "ax1.scatter(data_t1[:,2], data_t1[:,3], color = 'g', label=iris.target_names[1])\n",
    "ax1.scatter(data_t2[:,2], data_t2[:,3], color = 'r', label=iris.target_names[2])\n",
    "ax1.set_xlabel(\"petal length (cm)\")\n",
    "ax1.set_ylabel(\"petal width (cm)\")\n",
    "# ax1.set_xlim([0.9,7.])\n",
    "# ax1.set_ylim([0,2.6])\n",
    "plt.show()"
   ]
  },
  {
   "cell_type": "code",
   "execution_count": null,
   "metadata": {},
   "outputs": [],
   "source": []
  },
  {
   "cell_type": "code",
   "execution_count": null,
   "metadata": {},
   "outputs": [],
   "source": []
  }
 ],
 "metadata": {
  "kernelspec": {
   "display_name": "Python 2",
   "language": "python",
   "name": "python2"
  },
  "language_info": {
   "codemirror_mode": {
    "name": "ipython",
    "version": 3
   },
   "file_extension": ".py",
   "mimetype": "text/x-python",
   "name": "python",
   "nbconvert_exporter": "python",
   "pygments_lexer": "ipython3",
   "version": "3.5.2"
  }
 },
 "nbformat": 4,
 "nbformat_minor": 1
}
