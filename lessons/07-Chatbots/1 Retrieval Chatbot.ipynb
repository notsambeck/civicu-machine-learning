{
 "cells": [
  {
   "cell_type": "code",
   "execution_count": 2,
   "metadata": {},
   "outputs": [
    {
     "name": "stdout",
     "output_type": "stream",
     "text": [
      "(25149, 2)\n",
      "x    25148\n",
      "y    25148\n",
      "dtype: int64\n",
      "x    25149\n",
      "y    25149\n",
      "dtype: int64\n"
     ]
    },
    {
     "data": {
      "text/html": [
       "<div>\n",
       "<style>\n",
       "    .dataframe thead tr:only-child th {\n",
       "        text-align: right;\n",
       "    }\n",
       "\n",
       "    .dataframe thead th {\n",
       "        text-align: left;\n",
       "    }\n",
       "\n",
       "    .dataframe tbody tr th {\n",
       "        vertical-align: top;\n",
       "    }\n",
       "</style>\n",
       "<table border=\"1\" class=\"dataframe\">\n",
       "  <thead>\n",
       "    <tr style=\"text-align: right;\">\n",
       "      <th></th>\n",
       "      <th>x</th>\n",
       "      <th>y</th>\n",
       "    </tr>\n",
       "  </thead>\n",
       "  <tbody>\n",
       "    <tr>\n",
       "      <th>0</th>\n",
       "      <td>can we make this quick?  roxanne korrine and a...</td>\n",
       "      <td>well, i thought we'd start with pronunciation,...</td>\n",
       "    </tr>\n",
       "    <tr>\n",
       "      <th>1</th>\n",
       "      <td>well, i thought we'd start with pronunciation,...</td>\n",
       "      <td>not the hacking and gagging and spitting part....</td>\n",
       "    </tr>\n",
       "    <tr>\n",
       "      <th>2</th>\n",
       "      <td>not the hacking and gagging and spitting part....</td>\n",
       "      <td>okay... then how 'bout we try out some french ...</td>\n",
       "    </tr>\n",
       "    <tr>\n",
       "      <th>3</th>\n",
       "      <td>you're asking me out.  that's so cute. what's ...</td>\n",
       "      <td>forget it.</td>\n",
       "    </tr>\n",
       "    <tr>\n",
       "      <th>4</th>\n",
       "      <td>no, no, it's my fault -- we didn't have a prop...</td>\n",
       "      <td>cameron.</td>\n",
       "    </tr>\n",
       "  </tbody>\n",
       "</table>\n",
       "</div>"
      ],
      "text/plain": [
       "                                                   x  \\\n",
       "0  can we make this quick?  roxanne korrine and a...   \n",
       "1  well, i thought we'd start with pronunciation,...   \n",
       "2  not the hacking and gagging and spitting part....   \n",
       "3  you're asking me out.  that's so cute. what's ...   \n",
       "4  no, no, it's my fault -- we didn't have a prop...   \n",
       "\n",
       "                                                   y  \n",
       "0  well, i thought we'd start with pronunciation,...  \n",
       "1  not the hacking and gagging and spitting part....  \n",
       "2  okay... then how 'bout we try out some french ...  \n",
       "3                                         forget it.  \n",
       "4                                           cameron.  "
      ]
     },
     "execution_count": 2,
     "metadata": {},
     "output_type": "execute_result"
    }
   ],
   "source": [
    "import pandas as pd\n",
    "import numpy as np\n",
    "from nlpia.data.loaders import read_csv\n",
    "from sklearn.metrics.pairwise import cosine_distances\n",
    "import tqdm\n",
    "\n",
    "df = read_csv('../../../10k_movie_lines.csv')\n",
    "print(df.shape)\n",
    "print(df.count())\n",
    "df = df.fillna(' ')\n",
    "print(df.count())\n",
    "df.head()\n"
   ]
  },
  {
   "cell_type": "code",
   "execution_count": 3,
   "metadata": {},
   "outputs": [
    {
     "data": {
      "text/plain": [
       "TfidfVectorizer(analyzer='word', binary=False, decode_error='strict',\n",
       "        dtype=<class 'numpy.int64'>, encoding='utf-8', input='content',\n",
       "        lowercase=True, max_df=1.0, max_features=None, min_df=1,\n",
       "        ngram_range=(1, 1), norm='l2', preprocessor=None, smooth_idf=True,\n",
       "        stop_words=None, strip_accents=None, sublinear_tf=False,\n",
       "        token_pattern='(?u)\\\\b\\\\w\\\\w+\\\\b', tokenizer=None, use_idf=True,\n",
       "        vocabulary=None)"
      ]
     },
     "execution_count": 3,
     "metadata": {},
     "output_type": "execute_result"
    }
   ],
   "source": [
    "from sklearn.feature_extraction.text import TfidfVectorizer\n",
    "\n",
    "tfidf = TfidfVectorizer()\n",
    "tfidf"
   ]
  },
  {
   "cell_type": "code",
   "execution_count": 4,
   "metadata": {},
   "outputs": [
    {
     "data": {
      "text/plain": [
       "TfidfVectorizer(analyzer='word', binary=False, decode_error='strict',\n",
       "        dtype=<class 'numpy.int64'>, encoding='utf-8', input='content',\n",
       "        lowercase=True, max_df=0.3, max_features=1000000, min_df=1,\n",
       "        ngram_range=(1, 1), norm='l2', preprocessor=None, smooth_idf=True,\n",
       "        stop_words=None, strip_accents=None, sublinear_tf=False,\n",
       "        token_pattern='(?u)\\\\b\\\\w\\\\w+\\\\b', tokenizer=None, use_idf=True,\n",
       "        vocabulary=None)"
      ]
     },
     "execution_count": 4,
     "metadata": {},
     "output_type": "execute_result"
    }
   ],
   "source": [
    "tfidf = TfidfVectorizer(min_df=1, max_df=.3, max_features=1000000, ngram_range=(1, 1), stop_words=None)\n",
    "tfidf"
   ]
  },
  {
   "cell_type": "code",
   "execution_count": 5,
   "metadata": {},
   "outputs": [
    {
     "data": {
      "text/plain": [
       "TfidfVectorizer(analyzer='word', binary=False, decode_error='strict',\n",
       "        dtype=<class 'numpy.int64'>, encoding='utf-8', input='content',\n",
       "        lowercase=True, max_df=0.3, max_features=1000000, min_df=1,\n",
       "        ngram_range=(1, 1), norm='l2', preprocessor=None, smooth_idf=True,\n",
       "        stop_words=None, strip_accents=None, sublinear_tf=False,\n",
       "        token_pattern='(?u)\\\\b\\\\w\\\\w+\\\\b', tokenizer=None, use_idf=True,\n",
       "        vocabulary=None)"
      ]
     },
     "execution_count": 5,
     "metadata": {},
     "output_type": "execute_result"
    }
   ],
   "source": [
    "tfidf.fit(pd.concat([df[df.columns[i]] for i in range(2)]))"
   ]
  },
  {
   "cell_type": "code",
   "execution_count": 6,
   "metadata": {},
   "outputs": [
    {
     "name": "stdout",
     "output_type": "stream",
     "text": [
      "['rage', 'vox', 'pioneer', 'gateway', 'disposal', 'apartments', 'tock', 'squeeze', 'speedball', 'concessions']\n",
      "16597\n"
     ]
    }
   ],
   "source": [
    "print(list(tfidf.vocabulary_)[:10])\n",
    "print(len(tfidf.vocabulary_))"
   ]
  },
  {
   "cell_type": "code",
   "execution_count": 7,
   "metadata": {},
   "outputs": [],
   "source": [
    "def norm(vec):\n",
    "    return np.divide(vec, np.power(np.dot(vec, vec.T), .5))"
   ]
  },
  {
   "cell_type": "code",
   "execution_count": null,
   "metadata": {},
   "outputs": [
    {
     "name": "stdout",
     "output_type": "stream",
     "text": [
      "[[ 0.  0.  0. ...,  0.  0.  0.]]\n"
     ]
    },
    {
     "name": "stderr",
     "output_type": "stream",
     "text": [
      "/home/sam/.envs/ml/lib/python3.5/site-packages/ipykernel_launcher.py:2: RuntimeWarning: invalid value encountered in true_divide\n",
      "  \n"
     ]
    }
   ],
   "source": [
    "X = tfidf.transform(df.x).todense()\n",
    "print(X[0])\n",
    "X = [norm(row) for row in X]\n",
    "X.shape"
   ]
  },
  {
   "cell_type": "code",
   "execution_count": 140,
   "metadata": {},
   "outputs": [],
   "source": [
    "y = tfidf.transform(df.y)\n",
    "# y.todense()\n",
    "# ~.8 GB @ 5000 words"
   ]
  },
  {
   "cell_type": "code",
   "execution_count": 9,
   "metadata": {},
   "outputs": [
    {
     "data": {
      "text/plain": [
       "matrix([[ 0.,  0.,  0., ...,  0.,  0.,  0.]])"
      ]
     },
     "execution_count": 9,
     "metadata": {},
     "output_type": "execute_result"
    }
   ],
   "source": [
    "norm(X[0])"
   ]
  },
  {
   "cell_type": "code",
   "execution_count": 141,
   "metadata": {},
   "outputs": [],
   "source": [
    "def get_statement(s='hi'):\n",
    "    q = tfidf.transform([s.lower()]).todense()[0]\n",
    "    similarity = 0\n",
    "    best_i = 0\n",
    "    for i, v in enumerate(X):\n",
    "        # print(i, q, v)\n",
    "        sim = 2 - cosine_distances(q, v.todense())\n",
    "        if sim > similarity:\n",
    "            similarity = sim\n",
    "            best_i = i\n",
    "    return df.x.iloc[best_i], best_i\n",
    "\n",
    "def get_reply(s='hi'):\n",
    "    return df.y.iloc[get_statement(s)[1]]"
   ]
  },
  {
   "cell_type": "code",
   "execution_count": 99,
   "metadata": {},
   "outputs": [
    {
     "name": "stdout",
     "output_type": "stream",
     "text": [
      "use True\n",
      "use the True\n",
      "the True\n",
      "the force True\n"
     ]
    }
   ],
   "source": [
    "s1 = 'hello ubuntu'\n",
    "s2 = \"use the force luke\"\n",
    "words = s2.split()\n",
    "for i in range(len(words) - 2):\n",
    "    print(words[i], words[i] in tfidf.vocabulary_)\n",
    "    print(words[i], words[i+1], ' '.join([words[i], words[i+1]]) in tfidf.vocabulary_)"
   ]
  },
  {
   "cell_type": "code",
   "execution_count": 29,
   "metadata": {},
   "outputs": [
    {
     "data": {
      "text/plain": [
       "('hello.', 1667)"
      ]
     },
     "execution_count": 29,
     "metadata": {},
     "output_type": "execute_result"
    }
   ],
   "source": [
    "get_statement(s1)"
   ]
  },
  {
   "cell_type": "code",
   "execution_count": 30,
   "metadata": {},
   "outputs": [
    {
     "data": {
      "text/plain": [
       "x            hello.\n",
       "y    hi, it's me...\n",
       "Name: 1667, dtype: object"
      ]
     },
     "execution_count": 30,
     "metadata": {},
     "output_type": "execute_result"
    }
   ],
   "source": [
    "df.iloc[1667]"
   ]
  },
  {
   "cell_type": "code",
   "execution_count": 41,
   "metadata": {},
   "outputs": [
    {
     "data": {
      "text/plain": [
       "\"hi, it's me...\""
      ]
     },
     "execution_count": 41,
     "metadata": {},
     "output_type": "execute_result"
    }
   ],
   "source": [
    "get_reply(s1)"
   ]
  },
  {
   "cell_type": "code",
   "execution_count": 42,
   "metadata": {},
   "outputs": [
    {
     "data": {
      "text/plain": [
       "(\"doesn't work on you.  see ya around, little brother.\", 8482)"
      ]
     },
     "execution_count": 42,
     "metadata": {},
     "output_type": "execute_result"
    }
   ],
   "source": [
    "get_statement(s2)"
   ]
  },
  {
   "cell_type": "code",
   "execution_count": 43,
   "metadata": {},
   "outputs": [
    {
     "data": {
      "text/plain": [
       "'not likely.'"
      ]
     },
     "execution_count": 43,
     "metadata": {},
     "output_type": "execute_result"
    }
   ],
   "source": [
    "get_reply(s2)"
   ]
  },
  {
   "cell_type": "code",
   "execution_count": 142,
   "metadata": {},
   "outputs": [],
   "source": [
    "from sklearn.decomposition import TruncatedSVD\n",
    "pca = TruncatedSVD(n_components=50)\n",
    "pca = pca.fit(X)   # tfidf.transform(df.Context) == X\n",
    "X_100d = pca.transform(X)\n",
    "y_100d = pca.transform(y)"
   ]
  },
  {
   "cell_type": "code",
   "execution_count": 143,
   "metadata": {},
   "outputs": [],
   "source": [
    "def get_pca(s='Hi', qst=True, ans=True):\n",
    "    q = pca.transform(tfidf.transform([s.lower()]).todense())[0]\n",
    "    similarity = 0\n",
    "    best_i = 0\n",
    "    for i, v in enumerate(X_100d):\n",
    "        # print(i, q.shape, v.shape)\n",
    "        sim = 2 - cosine_distances(pd.np.array([q]), pd.np.array([v]))\n",
    "        if sim > similarity:\n",
    "            similarity = sim\n",
    "            best_i = i\n",
    "    \n",
    "    if qst:\n",
    "        print(s)\n",
    "        print(df.x.iloc[best_i])\n",
    "    \n",
    "    if ans:\n",
    "        return df.y.iloc[best_i], best_i"
   ]
  },
  {
   "cell_type": "code",
   "execution_count": 144,
   "metadata": {},
   "outputs": [
    {
     "data": {
      "text/plain": [
       "<1x496674 sparse matrix of type '<class 'numpy.float64'>'\n",
       "\twith 10 stored elements in Compressed Sparse Row format>"
      ]
     },
     "execution_count": 144,
     "metadata": {},
     "output_type": "execute_result"
    }
   ],
   "source": [
    "s3 = 'did you see the new movie'\n",
    "t = tfidf.transform([s3])\n",
    "t"
   ]
  },
  {
   "cell_type": "code",
   "execution_count": 145,
   "metadata": {},
   "outputs": [
    {
     "name": "stdout",
     "output_type": "stream",
     "text": [
      "hello ubuntu\n",
      "hello.\n"
     ]
    },
    {
     "data": {
      "text/plain": [
       "(\"hi, it's me...\", 1667)"
      ]
     },
     "execution_count": 145,
     "metadata": {},
     "output_type": "execute_result"
    }
   ],
   "source": [
    "get_pca(s1)"
   ]
  },
  {
   "cell_type": "code",
   "execution_count": 146,
   "metadata": {},
   "outputs": [
    {
     "name": "stdout",
     "output_type": "stream",
     "text": [
      "use the force luke\n",
      "didja use the commode story?\n"
     ]
    },
    {
     "data": {
      "text/plain": [
       "(\"fuckin' a. i tell it real good, too.\", 64771)"
      ]
     },
     "execution_count": 146,
     "metadata": {},
     "output_type": "execute_result"
    }
   ],
   "source": [
    "get_pca(s2)"
   ]
  },
  {
   "cell_type": "code",
   "execution_count": 147,
   "metadata": {},
   "outputs": [
    {
     "name": "stdout",
     "output_type": "stream",
     "text": [
      "did you see the new movie\n",
      "did you see the papers today?\n"
     ]
    },
    {
     "data": {
      "text/plain": [
       "('yes, sir, i did.', 49113)"
      ]
     },
     "execution_count": 147,
     "metadata": {},
     "output_type": "execute_result"
    }
   ],
   "source": [
    "get_pca(s3)"
   ]
  },
  {
   "cell_type": "code",
   "execution_count": 148,
   "metadata": {},
   "outputs": [
    {
     "name": "stdout",
     "output_type": "stream",
     "text": [
      "which way to the store?\n",
      "which way to the hollywood bowl?\n"
     ]
    },
    {
     "data": {
      "text/plain": [
       "('down that way.', 128854)"
      ]
     },
     "execution_count": 148,
     "metadata": {},
     "output_type": "execute_result"
    }
   ],
   "source": [
    "get_pca(\"which way to the store?\")"
   ]
  },
  {
   "cell_type": "code",
   "execution_count": 149,
   "metadata": {},
   "outputs": [
    {
     "name": "stdout",
     "output_type": "stream",
     "text": [
      "luke i am your father\n",
      "laura, i am your friend.\n"
     ]
    },
    {
     "data": {
      "text/plain": [
       "(\"i know you are and you don't have to do anything crazy to prove it.\", 83336)"
      ]
     },
     "execution_count": 149,
     "metadata": {},
     "output_type": "execute_result"
    }
   ],
   "source": [
    "get_pca('luke i am your father')"
   ]
  },
  {
   "cell_type": "code",
   "execution_count": 150,
   "metadata": {},
   "outputs": [
    {
     "name": "stdout",
     "output_type": "stream",
     "text": [
      "i have a bridge in brooklyn to sell you\n",
      "you have to put things in perspective.\n"
     ]
    },
    {
     "data": {
      "text/plain": [
       "('i know, i know.', 75134)"
      ]
     },
     "execution_count": 150,
     "metadata": {},
     "output_type": "execute_result"
    }
   ],
   "source": [
    "get_pca('i have a bridge in brooklyn to sell you')"
   ]
  },
  {
   "cell_type": "code",
   "execution_count": 155,
   "metadata": {},
   "outputs": [
    {
     "name": "stdout",
     "output_type": "stream",
     "text": [
      "a samurai makes every decision in the span of seven breaths\n",
      "in the immortal words of derrick coleman, whooopdeedamndoo!!!\n"
     ]
    },
    {
     "data": {
      "text/plain": [
       "(\"derrick coleman, he possessed all the talent in the world, coulda, shoulda, been a great ballplayer but alas d.c. didn't want it bad enough.  delacroix, do you want it? bad enough to kill for it?  do you want it that much.\",\n",
       " 9160)"
      ]
     },
     "execution_count": 155,
     "metadata": {},
     "output_type": "execute_result"
    }
   ],
   "source": [
    "get_pca(\"a samurai makes every decision in the span of seven breaths\")"
   ]
  },
  {
   "cell_type": "code",
   "execution_count": 152,
   "metadata": {},
   "outputs": [
    {
     "name": "stdout",
     "output_type": "stream",
     "text": [
      "do you feel lucky, punk? do you\n",
      "do you feel comforted?\n"
     ]
    },
    {
     "data": {
      "text/plain": [
       "('yes.', 68006)"
      ]
     },
     "execution_count": 152,
     "metadata": {},
     "output_type": "execute_result"
    }
   ],
   "source": [
    "get_pca('do you feel lucky, punk? do you')"
   ]
  },
  {
   "cell_type": "code",
   "execution_count": 154,
   "metadata": {},
   "outputs": [
    {
     "name": "stdout",
     "output_type": "stream",
     "text": [
      "i don't think we're in kansas anymore, toto\n",
      "i don't think we're ready.\n"
     ]
    },
    {
     "data": {
      "text/plain": [
       "(\"you're not ready.\", 19497)"
      ]
     },
     "execution_count": 154,
     "metadata": {},
     "output_type": "execute_result"
    }
   ],
   "source": [
    "get_pca(\"i don't think we're in kansas anymore, toto\")"
   ]
  },
  {
   "cell_type": "code",
   "execution_count": 156,
   "metadata": {},
   "outputs": [
    {
     "name": "stdout",
     "output_type": "stream",
     "text": [
      "elephant\n",
      "a girl with a body like mine?\n"
     ]
    },
    {
     "data": {
      "text/plain": [
       "(\"you're breaking my concentration!\", 106573)"
      ]
     },
     "execution_count": 156,
     "metadata": {},
     "output_type": "execute_result"
    }
   ],
   "source": [
    "get_pca(\"elephant\")"
   ]
  },
  {
   "cell_type": "code",
   "execution_count": 158,
   "metadata": {},
   "outputs": [
    {
     "name": "stdout",
     "output_type": "stream",
     "text": [
      "you are an elephant\n",
      "you are an animal.\n"
     ]
    },
    {
     "data": {
      "text/plain": [
       "(\"really? wow! that's that's terrific to hear from someone so... feminine, so female.\",\n",
       " 34555)"
      ]
     },
     "execution_count": 158,
     "metadata": {},
     "output_type": "execute_result"
    }
   ],
   "source": [
    "get_pca('you are an elephant')"
   ]
  }
 ],
 "metadata": {
  "kernelspec": {
   "display_name": "Python 3",
   "language": "python",
   "name": "python3"
  },
  "language_info": {
   "codemirror_mode": {
    "name": "ipython",
    "version": 3
   },
   "file_extension": ".py",
   "mimetype": "text/x-python",
   "name": "python",
   "nbconvert_exporter": "python",
   "pygments_lexer": "ipython3",
   "version": "3.5.2"
  }
 },
 "nbformat": 4,
 "nbformat_minor": 2
}
